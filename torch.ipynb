{
 "cells": [
  {
   "cell_type": "code",
   "execution_count": null,
   "metadata": {},
   "outputs": [],
   "source": [
    "import torch\n",
    "import pandas as pd\n",
    "from matplotlib import pyplot as plt\n",
    "import torch.nn as nn\n",
    "from torch.utils.data import TensorDataset,DataLoader\n",
    "\n",
    "frame = pd.read_csv(\"insect_gender_classification.csv\")\n",
    "get_tensor = lambda x: torch.tensor(x,dtype=torch.float32).unsqueeze(1)\n",
    "\n",
    "gender = get_tensor(frame[\"isMale\"])\n",
    "weight = get_tensor(frame[\"Weight\"])\n",
    "\n",
    "data = TensorDataset(weight,gender)"
   ]
  },
  {
   "cell_type": "code",
   "execution_count": null,
   "metadata": {},
   "outputs": [],
   "source": [
    "in1,out1 = 1,1\n",
    "\n",
    "l1 = nn.Linear(in1,out1,)\n",
    "\n",
    "Classifier = nn.Sequential(\n",
    "    l1,\n",
    "    nn.Sigmoid()\n",
    ")\n",
    "\n",
    "criterion = nn.BCELoss(reduction=\"mean\")\n",
    "optimizer = torch.optim.SGD(Classifier.parameters(),lr=0.01)\n",
    "\n",
    "dataloader = DataLoader(data,1)\n",
    "\n"
   ]
  },
  {
   "cell_type": "code",
   "execution_count": null,
   "metadata": {},
   "outputs": [],
   "source": [
    "# Training\n",
    "# Batch size = 60\n",
    "epoch = 700\n",
    "loss_history = []\n",
    "for i in range(epoch):\n",
    "    \n",
    "    for x,t in dataloader:\n",
    "        t_pred = Classifier(x)\n",
    "        loss = criterion(t_pred, t)\n",
    "        \n",
    "        optimizer.zero_grad()\n",
    "        loss.backward()\n",
    "        loss_history.append(loss.item())\n",
    "        \n",
    "        optimizer.step()\n",
    "    \n",
    "    \n",
    "    print(f'Epoch [{i+1}/{epoch}], Loss: {loss.item():.4f}')\n",
    "    \n",
    "    "
   ]
  },
  {
   "cell_type": "code",
   "execution_count": null,
   "metadata": {},
   "outputs": [],
   "source": [
    "x = torch.linspace(0,2.5,100,requires_grad=False).unsqueeze(0).T\n",
    "y  = Classifier(x)  \n",
    " \n",
    "\n"
   ]
  },
  {
   "cell_type": "code",
   "execution_count": null,
   "metadata": {},
   "outputs": [],
   "source": [
    "plt.scatter(weight,gender)\n",
    "plt.plot(x.detach().numpy(),y.detach().numpy())"
   ]
  }
 ],
 "metadata": {
  "kernelspec": {
   "display_name": "ml",
   "language": "python",
   "name": "python3"
  },
  "language_info": {
   "codemirror_mode": {
    "name": "ipython",
    "version": 3
   },
   "file_extension": ".py",
   "mimetype": "text/x-python",
   "name": "python",
   "nbconvert_exporter": "python",
   "pygments_lexer": "ipython3",
   "version": "3.10.15"
  }
 },
 "nbformat": 4,
 "nbformat_minor": 2
}
