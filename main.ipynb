{
 "cells": [
  {
   "cell_type": "code",
   "execution_count": null,
   "metadata": {},
   "outputs": [],
   "source": [
    "from typing import Callable\n",
    "import pandas as pd\n",
    "import numpy as np\n",
    "import matplotlib.pyplot as plt\n"
   ]
  },
  {
   "cell_type": "code",
   "execution_count": null,
   "metadata": {},
   "outputs": [],
   "source": [
    "frame = pd.read_csv(\"insect_gender_classification.csv\")\n",
    "gender = np.array(frame[\"isMale\"])   #1 for male\n",
    "weight = np.array(frame[\"Weight\"])"
   ]
  },
  {
   "cell_type": "code",
   "execution_count": null,
   "metadata": {},
   "outputs": [],
   "source": [
    "plt.scatter(weight,gender)"
   ]
  },
  {
   "cell_type": "code",
   "execution_count": null,
   "metadata": {},
   "outputs": [],
   "source": [
    "sigmoid = lambda x: 1 / (1 + np.exp(-x))\n",
    "predict_func = lambda w, x: sigmoid(w.dot(np.array([[1] * x.size, x])))\n",
    "\n",
    "\n",
    "def MCEE(predict: np.ndarray, actual: np.ndarray):\n",
    "    return -np.average(actual * np.log(predict) + (1 - actual) * np.log(1 - predict))\n",
    "\n",
    "\n",
    "def Loss(w: np.ndarray):\n",
    "    predict = predict_func(w, weight)\n",
    "    return MCEE(predict, gender)\n",
    "\n",
    "\n",
    "def gradient(w: np.ndarray, Loss: Callable, derivative_step: float):\n",
    "    result = np.zeros_like(w, dtype=np.float64)\n",
    "    loss = Loss(w)\n",
    "    for i in range(w.size):\n",
    "        delta_w = np.zeros_like(w, dtype=np.float64)\n",
    "        delta_w.flat[i] = derivative_step\n",
    "        result[i] = (Loss(w + delta_w) - loss) / derivative_step\n",
    "    return result"
   ]
  },
  {
   "cell_type": "code",
   "execution_count": null,
   "metadata": {},
   "outputs": [],
   "source": [
    "w0 = 1\n",
    "w1 = 1  \n",
    "w = np.array([w0,w1],dtype=np.float64)\n",
    "\n",
    "epoch = 700\n",
    "learning_rate = 1\n",
    "derivative_step = 0.01\n",
    "loss_history = []\n",
    "\n",
    "for i in range(epoch):\n",
    "    w -= gradient( w,Loss,derivative_step) * learning_rate\n",
    "    loss_history.append(Loss(w))"
   ]
  },
  {
   "cell_type": "code",
   "execution_count": null,
   "metadata": {},
   "outputs": [],
   "source": [
    "plt.plot(loss_history)"
   ]
  },
  {
   "cell_type": "code",
   "execution_count": null,
   "metadata": {},
   "outputs": [],
   "source": [
    "x = np.linspace(0.3,2.6,200)\n",
    "plt.plot(x,predict_func(w,x))\n",
    "plt.scatter(weight,gender)"
   ]
  }
 ],
 "metadata": {
  "kernelspec": {
   "display_name": "ml",
   "language": "python",
   "name": "python3"
  },
  "language_info": {
   "codemirror_mode": {
    "name": "ipython",
    "version": 3
   },
   "file_extension": ".py",
   "mimetype": "text/x-python",
   "name": "python",
   "nbconvert_exporter": "python",
   "pygments_lexer": "ipython3",
   "version": "3.10.15"
  }
 },
 "nbformat": 4,
 "nbformat_minor": 2
}
